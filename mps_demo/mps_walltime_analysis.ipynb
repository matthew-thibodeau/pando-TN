{
 "cells": [
  {
   "cell_type": "code",
   "execution_count": 3,
   "metadata": {},
   "outputs": [],
   "source": [
    "import numpy as np\n",
    "import matplotlib.pyplot as plt\n",
    "import os"
   ]
  },
  {
   "cell_type": "code",
   "execution_count": 14,
   "metadata": {},
   "outputs": [
    {
     "name": "stdout",
     "output_type": "stream",
     "text": [
      "1763 1763\n",
      "9992542_21_14\n",
      "1660\n"
     ]
    }
   ],
   "source": [
    "datadir = '/Users/matthewthibodeau/Intel/pando-TN/mps_demo/mps_data/data'\n",
    "flist_full = os.listdir(datadir)\n",
    "\n",
    "# only select proper L, D\n",
    "L = 40\n",
    "D = 2\n",
    "flist = [x for x in flist if f'D{D}' in x and f'L{L}' in x]\n",
    "energy_flist = [x for x in flist if 'energy_data' in x]\n",
    "time_flist = [x for x in flist if 'time_data' in x]\n",
    "\n",
    "print(len(energy_flist), len(time_flist))\n",
    "\n",
    "jobidxs = [x.split('energy_data_')[1].split(f'_L{L}_D{D}.npy')[0] for x in energy_flist]\n",
    "print(jobidxs[0])\n",
    "\n",
    "timedict = {}\n",
    "energydict = {}\n",
    "model_2site_time_ratios = []\n",
    "model_2site_energy_ratios = []\n",
    "exact_2site_time_ratios = []\n",
    "exact_2site_energy_ratios = []\n",
    "for idx in jobidxs:\n",
    "    this_time_data = np.load(f'{datadir}/time_data_{idx}_L{L}_D{D}.npy')\n",
    "    this_energy_data = np.load(f'{datadir}/energy_data_{idx}_L{L}_D{D}.npy')\n",
    "\n",
    "    (t1, conv1, tg, convg, ta, conva, t2) = this_time_data\n",
    "    (guided_exact_energy, guided_model_energy, onesite_energy) = this_energy_data\n",
    "\n",
    "    if conv1 and convg and conva:\n",
    "        timedict[idx] = {'t1': t1, 'tg': tg, 'ta': ta, 't2': t2}\n",
    "        energydict[idx] = {'guided': guided_exact_energy, 'model': guided_model_energy, '1site': onesite_energy}\n",
    "\n",
    "        model_2site_time_ratios.append(tg/t2)\n",
    "        model_2site_energy_ratios.append()\n",
    "\n",
    "print(len(timedict.keys()))\n"
   ]
  },
  {
   "cell_type": "code",
   "execution_count": null,
   "metadata": {},
   "outputs": [],
   "source": []
  }
 ],
 "metadata": {
  "kernelspec": {
   "display_name": "py311",
   "language": "python",
   "name": "python3"
  },
  "language_info": {
   "codemirror_mode": {
    "name": "ipython",
    "version": 3
   },
   "file_extension": ".py",
   "mimetype": "text/x-python",
   "name": "python",
   "nbconvert_exporter": "python",
   "pygments_lexer": "ipython3",
   "version": "3.11.5"
  }
 },
 "nbformat": 4,
 "nbformat_minor": 2
}
