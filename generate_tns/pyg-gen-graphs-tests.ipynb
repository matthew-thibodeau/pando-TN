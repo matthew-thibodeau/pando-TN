{
 "cells": [
  {
   "cell_type": "markdown",
   "id": "86c75272-4706-463d-b5af-09f6daa8fff6",
   "metadata": {},
   "source": [
    "## Sandbox for making GNNs that output graphs"
   ]
  },
  {
   "cell_type": "code",
   "execution_count": null,
   "id": "2b1fa625-733f-4514-ab2e-77a5b4855842",
   "metadata": {},
   "outputs": [],
   "source": []
  },
  {
   "cell_type": "code",
   "execution_count": null,
   "id": "261bc6a3-871a-443f-88c7-8b86e0cd84e0",
   "metadata": {},
   "outputs": [],
   "source": []
  },
  {
   "cell_type": "code",
   "execution_count": null,
   "id": "89eb5002-3728-4dbd-9c31-20b1acb0f0ed",
   "metadata": {},
   "outputs": [],
   "source": []
  },
  {
   "cell_type": "code",
   "execution_count": null,
   "id": "fa3d9237-ac00-4320-9ec3-7b53c2145991",
   "metadata": {},
   "outputs": [],
   "source": []
  },
  {
   "cell_type": "code",
   "execution_count": null,
   "id": "29de71b9-72b7-400c-9823-4a30084b189a",
   "metadata": {},
   "outputs": [],
   "source": []
  },
  {
   "cell_type": "code",
   "execution_count": null,
   "id": "2abd8c09-f03f-4a48-8057-66472ca912a3",
   "metadata": {},
   "outputs": [],
   "source": []
  },
  {
   "cell_type": "code",
   "execution_count": null,
   "id": "86b0a99d-491d-41ac-9844-46d3bc67cbd4",
   "metadata": {},
   "outputs": [],
   "source": []
  },
  {
   "cell_type": "code",
   "execution_count": null,
   "id": "4bdc6914-dc65-4c9d-9d6f-1c3ebf1157c7",
   "metadata": {},
   "outputs": [],
   "source": []
  },
  {
   "cell_type": "code",
   "execution_count": null,
   "id": "39d25010-e851-4c0b-bcb1-b8fdd4702bf4",
   "metadata": {},
   "outputs": [],
   "source": []
  },
  {
   "cell_type": "code",
   "execution_count": null,
   "id": "7bcc929b-a632-4343-b519-cdfefa9b7c08",
   "metadata": {},
   "outputs": [],
   "source": []
  }
 ],
 "metadata": {
  "kernelspec": {
   "display_name": "Python 3 (ipykernel)",
   "language": "python",
   "name": "python3"
  },
  "language_info": {
   "codemirror_mode": {
    "name": "ipython",
    "version": 3
   },
   "file_extension": ".py",
   "mimetype": "text/x-python",
   "name": "python",
   "nbconvert_exporter": "python",
   "pygments_lexer": "ipython3",
   "version": "3.11.7"
  }
 },
 "nbformat": 4,
 "nbformat_minor": 5
}
