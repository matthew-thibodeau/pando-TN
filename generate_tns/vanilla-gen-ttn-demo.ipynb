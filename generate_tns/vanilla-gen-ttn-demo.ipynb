{
 "cells": [
  {
   "cell_type": "markdown",
   "id": "4566a2f6-f443-4b85-9652-46a65c52aa45",
   "metadata": {},
   "source": [
    "### TTN generation sandbox\n",
    "\n",
    "New method:\n",
    "Instead of using pyGeo, we now just use regular pyTorch.\n",
    "\n",
    "To output the graph, we'll interpret an output vector as probabilities in a graph.\n",
    "Post-processing probably required for:\n",
    "- ensuring graph is connected\n",
    "- ensuring graph is tree-like"
   ]
  },
  {
   "cell_type": "code",
   "execution_count": 7,
   "id": "62c1567b-225e-45e4-b689-64bbe514856c",
   "metadata": {},
   "outputs": [],
   "source": [
    "# %automagic\n",
    "\n",
    "import torch\n",
    "from torch import nn\n",
    "from torch.utils.data import TensorDataset, DataLoader"
   ]
  },
  {
   "cell_type": "code",
   "execution_count": 21,
   "id": "8b00ee38-cb24-4b9a-b314-b1fdb1e67bfc",
   "metadata": {},
   "outputs": [
    {
     "name": "stdout",
     "output_type": "stream",
     "text": [
      "Predicted output for new input:\n",
      " tensor([[[14.9579, 16.0895],\n",
      "         [14.9429, 16.0371]]], grad_fn=<ViewBackward0>)\n"
     ]
    }
   ],
   "source": [
    "\n",
    "\n",
    "input_dim = 2\n",
    "output_dim = 2\n",
    "\n",
    "# Define the model class\n",
    "class MLP(nn.Module):\n",
    "    def __init__(self, input_dim, hidden_dim, output_dim):\n",
    "        super(MLP, self).__init__()\n",
    "        # First hidden layer\n",
    "        self.fc1 = nn.Linear(input_dim, hidden_dim)\n",
    "        self.relu1 = nn.ReLU()\n",
    "        # Second hidden layer\n",
    "        self.fc2 = nn.Linear(hidden_dim, hidden_dim)\n",
    "        self.relu2 = nn.ReLU()\n",
    "        # Output layer\n",
    "        self.fc3 = nn.Linear(hidden_dim, output_dim * output_dim)\n",
    "\n",
    "    def forward(self, x):\n",
    "        # Pass through hidden layers with activation\n",
    "        x = self.relu1(self.fc1(x))\n",
    "        x = self.relu2(self.fc2(x))\n",
    "        # Output layer without activation (linear regression)\n",
    "        return self.fc3(x).view(x.shape[0], output_dim, output_dim)\n",
    "\n",
    "# Sample training data (modify this based on your actual data)\n",
    "input_data = torch.tensor([[1.0, 2.0], [3.0, 4.0], [5.0, 6.0]])\n",
    "output_data = torch.tensor([ [[3.0, 4.0],[3.0, 4.0]],\n",
    "                             [[7.0, 8.0], [7.0, 8.0]],\n",
    "                             [[11.0, 12.0],[11.0, 12.0]]  ]  )\n",
    "\n",
    "# Create a dataset and dataloader\n",
    "dataset = TensorDataset(input_data, output_data)\n",
    "dataloader = DataLoader(dataset, batch_size=2)  # Adjust batch_size as needed\n",
    "\n",
    "# Define model, loss function, and optimizer\n",
    "model = MLP(input_data.shape[1], 16, output_data.shape[1])  # Adjust hidden layer size\n",
    "loss_fn = nn.MSELoss()  # Mean Squared Error loss\n",
    "optimizer = torch.optim.SGD(model.parameters(), lr=0.01)  # Stochastic Gradient Descent\n",
    "\n",
    "# Train the model\n",
    "for epoch in range(100):  # Adjust number of epochs for better training\n",
    "    for data, target in dataloader:\n",
    "        optimizer.zero_grad()\n",
    "        prediction = model(data)\n",
    "        loss = loss_fn(prediction, target)\n",
    "        loss.backward()\n",
    "        optimizer.step()\n",
    "\n",
    "\n",
    "# Example usage: predict output for a new input\n",
    "new_input = torch.tensor([[7.0, 8.0]])\n",
    "predicted_output = model(new_input)\n",
    "print(f\"Predicted output for new input:\\n {predicted_output}\")"
   ]
  },
  {
   "cell_type": "code",
   "execution_count": null,
   "id": "65502976-5111-4655-81ba-1721a0087c64",
   "metadata": {},
   "outputs": [],
   "source": []
  },
  {
   "cell_type": "code",
   "execution_count": null,
   "id": "362c214a-2c04-422e-b90a-f065730a9e7c",
   "metadata": {},
   "outputs": [],
   "source": []
  },
  {
   "cell_type": "code",
   "execution_count": null,
   "id": "257ccea7-dd38-473f-b736-017c9e5478fb",
   "metadata": {},
   "outputs": [],
   "source": []
  },
  {
   "cell_type": "code",
   "execution_count": null,
   "id": "097fe919-d9ea-4289-9c35-9be5cfb3c93d",
   "metadata": {},
   "outputs": [],
   "source": []
  },
  {
   "cell_type": "code",
   "execution_count": null,
   "id": "087937fb-9ceb-49b2-9f1f-07acae1fb59b",
   "metadata": {},
   "outputs": [],
   "source": []
  },
  {
   "cell_type": "code",
   "execution_count": null,
   "id": "bd7dd67f-a5eb-49fd-a076-629726642d4d",
   "metadata": {},
   "outputs": [],
   "source": []
  },
  {
   "cell_type": "code",
   "execution_count": null,
   "id": "dc8cee57-192f-48d0-8f0c-96f1f47d17fd",
   "metadata": {},
   "outputs": [],
   "source": []
  },
  {
   "cell_type": "code",
   "execution_count": null,
   "id": "d4d0490e-626c-4be5-a34c-1f663a24644d",
   "metadata": {},
   "outputs": [],
   "source": []
  },
  {
   "cell_type": "code",
   "execution_count": null,
   "id": "8e56930e-510c-44e8-8452-4c9b596d27db",
   "metadata": {},
   "outputs": [],
   "source": []
  },
  {
   "cell_type": "code",
   "execution_count": null,
   "id": "067a9962-ed25-4761-9317-e27506b48cd3",
   "metadata": {},
   "outputs": [],
   "source": []
  },
  {
   "cell_type": "code",
   "execution_count": null,
   "id": "d0131129-d0c7-47bd-b75a-4420a27b37b5",
   "metadata": {},
   "outputs": [],
   "source": []
  },
  {
   "cell_type": "code",
   "execution_count": null,
   "id": "2b4627f6-3c16-4a8e-92de-baf4f8ebf60b",
   "metadata": {},
   "outputs": [],
   "source": []
  },
  {
   "cell_type": "code",
   "execution_count": null,
   "id": "7f80bd67-a119-4bbb-ba9f-c9c93d265305",
   "metadata": {},
   "outputs": [],
   "source": []
  },
  {
   "cell_type": "code",
   "execution_count": null,
   "id": "7ad44dae-a378-4966-a8b2-4a733035e17f",
   "metadata": {},
   "outputs": [],
   "source": []
  }
 ],
 "metadata": {
  "kernelspec": {
   "display_name": "Python 3 (ipykernel)",
   "language": "python",
   "name": "python3"
  },
  "language_info": {
   "codemirror_mode": {
    "name": "ipython",
    "version": 3
   },
   "file_extension": ".py",
   "mimetype": "text/x-python",
   "name": "python",
   "nbconvert_exporter": "python",
   "pygments_lexer": "ipython3",
   "version": "3.11.7"
  }
 },
 "nbformat": 4,
 "nbformat_minor": 5
}
