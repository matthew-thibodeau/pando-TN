{
 "cells": [
  {
   "attachments": {},
   "cell_type": "markdown",
   "metadata": {},
   "source": [
    "----\n",
    "# Analysis of the SA optimization\n",
    "----\n",
    "\n",
    "We optimized Tree-Tensor Networks (TNNs) using Simulated Annealing (SA).  \n",
    "Here we visalize and analyze the results.\n",
    "\n",
    "Date and content of runs:\n",
    "- `2023-10-05`: small run to test the notebook. No MPI parallelization.\n",
    "- `TEST`: small test with MPI parallelization (performed on 2023-11-27).\n",
    "- `2023-11-27`: run for data collection. With MPI parallelization.\n",
    "\n",
    "Sections:\n",
    "- <a href=#load>Load the dataframe</a>\n",
    "- <a href=#next>WIP</a>\n",
    "\n",
    "----\n",
    "<a id='top'></a>"
   ]
  },
  {
   "cell_type": "code",
   "execution_count": 9,
   "metadata": {},
   "outputs": [
    {
     "name": "stdout",
     "output_type": "stream",
     "text": [
      "working directory: /Users/mthib/Intel/pando-TN/ttn_learning\n"
     ]
    }
   ],
   "source": [
    "# Set working directory to be the main directory of the repo.\n",
    "import os\n",
    "#try:\n",
    "#    was_cwd_initialized\n",
    "#except NameError:\n",
    "#    os.chdir('ttn_learning/')\n",
    "#    was_cwd_initialized = True\n",
    "print('working directory:', os.getcwd())\n",
    "\n",
    "import numpy as np              # Import NumPy library\n",
    "import matplotlib.pyplot as plt # Import graphical library for plots\n",
    "import pandas as pd\n",
    "import sys\n",
    "sys.path.insert(0, '../ttn_demo')\n",
    "import ttn\n",
    "# For certain runs, there is no way to know the slurm_jobid and slurm_procid if not manually.\n",
    "from analysis_utils import get_id_of_files\n",
    "\n",
    "# Name of files and directories\n",
    "today = 'TEST'\n",
    "today = '2023-11-27'\n",
    "data_path = f'data/{today}_TTN_SA'\n",
    "\n",
    "L = 24\n",
    "site_dim = 2\n",
    "bond_size = 3"
   ]
  },
  {
   "cell_type": "code",
   "execution_count": 29,
   "metadata": {},
   "outputs": [
    {
     "name": "stdout",
     "output_type": "stream",
     "text": [
      "55 runs available in this dataset\n"
     ]
    }
   ],
   "source": [
    "summary_fnames = [x for x in os.listdir(data_path) if f'L{L}_D{site_dim}_m{bond_size}_summary' in x]\n",
    "hamval_fnames = [x for x in os.listdir(data_path) if f'L{L}_D{site_dim}_m{bond_size}_hamiltonian_val' in x]\n",
    "summary_ids_split = [x.split('_')[2:5] for x in summary_fnames]\n",
    "summary_ids = [f'_{x[0]}_{x[1]}_{x[2]}_' for x in summary_ids_split]\n",
    "summary_val_pairs = []\n",
    "\n",
    "# print(summary_ids)\n",
    "for id in summary_ids:\n",
    "    matching_summaries = [x for x in summary_fnames if id in x]\n",
    "    matching_hamvals = [x for x in hamval_fnames if id in x]\n",
    "    # print(matching_summaries, matching_hamvals)\n",
    "    assert len(matching_summaries) <= 1 and len(matching_hamvals) <= 1\n",
    "    if len(matching_summaries) == 0 or len(matching_hamvals) == 0:\n",
    "        continue\n",
    "    summary_val_pairs.append((matching_summaries[0], matching_hamvals[0]))\n",
    "num_runs = len(summary_val_pairs)\n",
    "print(f'{num_runs} runs available in this dataset')"
   ]
  },
  {
   "cell_type": "code",
   "execution_count": 34,
   "metadata": {},
   "outputs": [],
   "source": [
    "\n",
    "all_dfs = []\n",
    "\n",
    "for summary_file_id, hamval_file_id in summary_val_pairs:\n",
    "\n",
    "    with open(f'{data_path}/{summary_file_id}', 'rb') as f:\n",
    "        df = pd.read_pickle(f)\n",
    "    with open(f'{data_path}/{hamval_file_id}', 'rb') as f:\n",
    "        hamvals = pd.read_pickle(f)\n",
    "\n",
    "    all_dfs.append(df)\n",
    "    # print(df)\n",
    "\n",
    "    # get adjacency matrix\n",
    "    # adj_matrix = df['state'][0].get_adjacency_matrix()\n",
    "\n",
    "    # print(isinstance(df['state'][1], ttn.TTN))\n",
    "    # print(isinstance(df['state'][2], ttn.TTN))\n",
    "    # print(sum([isinstance(df['state'][j], ttn.TTN) for j in range(len(df['state']))]))"
   ]
  },
  {
   "cell_type": "code",
   "execution_count": 35,
   "metadata": {},
   "outputs": [],
   "source": [
    "# set the matplotlib parameters\n",
    "SMALL_SIZE = 8\n",
    "MEDIUM_SIZE = 10\n",
    "BIGGER_SIZE = 12\n",
    "\n",
    "plt.rc('font', size=SMALL_SIZE)          # controls default text sizes\n",
    "plt.rc('axes', titlesize=SMALL_SIZE)     # fontsize of the axes title\n",
    "plt.rc('axes', labelsize=MEDIUM_SIZE)    # fontsize of the x and y labels\n",
    "plt.rc('xtick', labelsize=SMALL_SIZE)    # fontsize of the tick labels\n",
    "plt.rc('ytick', labelsize=SMALL_SIZE)    # fontsize of the tick labels\n",
    "plt.rc('legend', fontsize=SMALL_SIZE)    # legend fontsize\n",
    "plt.rc('figure', titlesize=BIGGER_SIZE)  # fontsize of the figure title\n",
    "plt.rc('text', usetex=True)\n",
    "plt.rc('text.latex', preamble=r'\\usepackage{amsmath}\\usepackage{bm}')"
   ]
  },
  {
   "cell_type": "code",
   "execution_count": 106,
   "metadata": {},
   "outputs": [],
   "source": [
    "all_recorded_energies = []\n",
    "all_ovps2 = []\n",
    "acceptance_ratios = []\n",
    "\n",
    "for df in all_dfs:\n",
    "    non_recorded_states_idx = ~df['state'].notna()\n",
    "    recorded_states_idx =  df['state'].notna()\n",
    "\n",
    "    recorded_energies = df['energy'][recorded_states_idx]\n",
    "    recorded_states = df['state'][recorded_states_idx]\n",
    "\n",
    "\n",
    "    # compute the overlaps\n",
    "    finalstateidx = recorded_energies.idxmin()\n",
    "    min_energy = recorded_energies[finalstateidx]\n",
    "    min_state = recorded_states[finalstateidx]\n",
    "\n",
    "    # recorded_energies_\n",
    "\n",
    "    num_accepted = len(df.index[df['state'].notna()])\n",
    "    num_rejected = len(df.index[~df['state'].notna()])\n",
    "    acceptance_ratios.append(num_accepted/(num_accepted+num_rejected))\n",
    "    \n",
    "    ovps_2 = [(min_state.H @ x)**2 for x in recorded_states]\n",
    "\n",
    "    all_recorded_energies.append(recorded_energies)\n",
    "    all_ovps2.append(ovps_2)\n",
    "    # print(len(ovps_2), len(recorded_energies))\n"
   ]
  },
  {
   "cell_type": "code",
   "execution_count": 92,
   "metadata": {},
   "outputs": [],
   "source": [
    "# interpolate the data for averaging\n",
    "resample_pts = max(len(x) for x in all_ovps2)\n",
    "interp_ovps2 = []\n",
    "interp_energies = []\n",
    "interp_energies_rel = []\n",
    "interp_energies_offset = []\n",
    "interp_energies_vs_final = []\n",
    "interprange = np.linspace(0,1,resample_pts)\n",
    "for ovp2, ee in zip(all_ovps2, all_recorded_energies):\n",
    "    xdata = np.linspace(0,1,len(ovp2))\n",
    "    interp_ovps2.append(np.interp(interprange, xdata, ovp2))\n",
    "    interp_energies.append(np.interp(interprange, xdata, ee))\n",
    "    interp_energies_rel.append(interp_energies[-1]/interp_energies[-1][-1])\n",
    "    interp_energies_offset.append(interp_energies[-1] - interp_energies[-1][0])\n",
    "    interp_energies_vs_final.append(interp_energies[-1] - interp_energies[-1][-1])\n",
    "\n",
    "interp_ovps2 = np.array(interp_ovps2)\n",
    "interp_energies = np.array(interp_energies)\n",
    "interp_energies_rel = np.array(interp_energies_rel)\n",
    "interp_energies_offset = np.array(interp_energies_offset)\n",
    "interp_energies_vs_final = np.array(interp_energies_vs_final)\n"
   ]
  },
  {
   "cell_type": "code",
   "execution_count": 109,
   "metadata": {},
   "outputs": [
    {
     "name": "stdout",
     "output_type": "stream",
     "text": [
      "mean acceptance ratio: 11.02%\n"
     ]
    },
    {
     "data": {
      "image/png": "[encoded data removed]",
      "text/plain": [
       "<Figure size 325x200 with 2 Axes>"
      ]
     },
     "metadata": {},
     "output_type": "display_data"
    }
   ],
   "source": [
    "mean_energy = np.mean(interp_energies, axis=0)\n",
    "mean_energy_rel = np.mean(interp_energies_rel, axis=0)\n",
    "mean_energy_delta = np.mean(interp_energies_offset, axis=0)\n",
    "mean_energy_vs_final = np.mean(interp_energies_vs_final, axis=0)\n",
    "mean_ovp2 = np.mean(interp_ovps2, axis=0)\n",
    "\n",
    "se_energy = np.std(interp_energies, axis=0) / np.sqrt(num_runs)\n",
    "se_energy_rel = np.std(interp_energies_rel, axis=0) / np.sqrt(num_runs)\n",
    "se_energy_delta = np.std(interp_energies_offset, axis=0) / np.sqrt(num_runs)\n",
    "se_energy_vs_final = np.std(interp_energies_vs_final, axis=0) / np.sqrt(num_runs)\n",
    "se_ovp2  = np.std(interp_ovps2, axis=0) / np.sqrt(num_runs)\n",
    "\n",
    "\n",
    "\n",
    "ovp_color = 'darkslateblue'\n",
    "energy_color = 'k'\n",
    "xrange = interprange\n",
    "fig, ax  = plt.subplots(1, 1, figsize=(3.25, 2.0), constrained_layout =True)\n",
    "ax.plot(xrange * 100, mean_energy_rel, color='k')\n",
    "ax.fill_between(xrange * 100, mean_energy_rel - se_energy_rel, mean_energy_rel + se_energy_rel, alpha=0.4, color=energy_color)\n",
    "ax.set_xlabel('SA progress, \\%')\n",
    "ax.set_ylabel(r'$E / E_f$')\n",
    "ax.tick_params(axis='y', labelcolor=energy_color)\n",
    "ax.yaxis.label.set_color(energy_color)\n",
    "\n",
    "ax_ovp = ax.twinx()\n",
    "ax_ovp.plot(xrange * 100, mean_ovp2, color='C0')\n",
    "ax_ovp.fill_between(xrange * 100, mean_ovp2 - se_ovp2, mean_ovp2 + se_ovp2, alpha=0.4, color='C0')\n",
    "ax_ovp.set_ylabel(r'$\\langle \\psi_j|\\psi_\\textrm{final}\\rangle^2$')\n",
    "ax_ovp.tick_params(axis='y', labelcolor=ovp_color)\n",
    "ax_ovp.yaxis.label.set_color(ovp_color)\n",
    "plt.savefig('/Users/mthib/Intel/pando-TN/report/figures/TTN_SA_runs_avg.pdf')\n",
    "\n",
    "print(f'mean acceptance ratio: {np.mean(acceptance_ratios) * 100:.2f}%')"
   ]
  },
  {
   "cell_type": "code",
   "execution_count": 5,
   "metadata": {},
   "outputs": [
    {
     "name": "stdout",
     "output_type": "stream",
     "text": [
      "\n",
      "Num accepted SA moves: 121/1001 = 12.09 %\n"
     ]
    },
    {
     "data": {
      "image/png": "[encoded data removed]",
      "text/plain": [
       "<Figure size 325x350 with 3 Axes>"
      ]
     },
     "metadata": {},
     "output_type": "display_data"
    }
   ],
   "source": [
    "# To focus on the accepted moves, set the variable below:\n",
    "only_accepted = True\n",
    "\n",
    "\n",
    "\n",
    "\n",
    "fig, (ax1, ax2) = plt.subplots(2, 1, figsize=(3.25, 3.5), constrained_layout =True, sharex=True)\n",
    "# plt.subplots_adjust(hspace=0.3)\n",
    "# plt.suptitle(f'{today}:  L={L} , D={site_dim} , m={bond_size} , r={run}',  y=1.06)\n",
    "\n",
    "\n",
    "# Plot the data with 'o' marker for states where 'state' is None\n",
    "ax2.plot(df.index[~df['state'].notna()], df['energy'][~df['state'].notna()],\n",
    "        marker='o', linestyle='', color='k', ms=1,label='rejected')\n",
    "# Plot the data with 'x' marker for accepted states\n",
    "ax2.plot(df.index[df['state'].notna()], df['energy'][df['state'].notna()],\n",
    "        marker='', linestyle='-', linewidth=2, color='red', label='accepted')\n",
    "\n",
    "ax_ovp = ax1.twinx()\n",
    "\n",
    "ax1.plot(df.index[df['state'].notna()], df['energy'][df['state'].notna()]/min_energy * 100,\n",
    "        marker='', linestyle='--', color='k', label='relative energy')\n",
    "ax_ovp.plot(df.index[df['state'].notna()], ovps_2,\n",
    "        marker='', linestyle='-', color='b', label=r'overlap$^2$')\n",
    "\n",
    "\n",
    "ax1.set_ylabel(r'$E_j/E_\\textrm{final}$')\n",
    "ax_ovp.set_ylabel(r'$\\langle \\psi_j|\\psi_\\textrm{final}\\rangle^2$')\n",
    "\n",
    "lines, labels = ax1.get_legend_handles_labels()\n",
    "lines2, labels2 = ax_ovp.get_legend_handles_labels()\n",
    "ax1.legend(lines + lines2, labels + labels2)\n",
    "\n",
    "# ax2.set_xlabel('SA move $j$'); \n",
    "# ax2.set_ylabel('Energy $E_j$'); \n",
    "ax2.legend()\n",
    "\n",
    "# ax2.set_ylim((min_energy - 0.01,-15.6, ))\n",
    "\n",
    "# Count how many SA moves were accepted/rejected.\n",
    "num_accepted = len(df.index[df['state'].notna()])\n",
    "num_rejected = len(df.index[~df['state'].notna()])\n",
    "print(f'\\nNum accepted SA moves: {num_accepted}/{num_accepted+num_rejected} = {num_accepted/(num_accepted+num_rejected)*100:5.2f} %')\n",
    "# plt.show()\n",
    "\n",
    "plt.savefig('/Users/mthib/Intel/pando-TN/report/figures/single_TTN_SA_run.pdf')"
   ]
  },
  {
   "cell_type": "markdown",
   "metadata": {},
   "source": [
    "Generate the Hamiltonian values / TTN state adjacency matrices for learning"
   ]
  },
  {
   "cell_type": "code",
   "execution_count": 6,
   "metadata": {},
   "outputs": [],
   "source": [
    "L = 24\n"
   ]
  },
  {
   "cell_type": "markdown",
   "metadata": {},
   "source": [
    "----\n",
    "## END\n",
    "----"
   ]
  }
 ],
 "metadata": {
  "kernelspec": {
   "display_name": "Python 3",
   "language": "python",
   "name": "python3"
  },
  "language_info": {
   "codemirror_mode": {
    "name": "ipython",
    "version": 3
   },
   "file_extension": ".py",
   "mimetype": "text/x-python",
   "name": "python",
   "nbconvert_exporter": "python",
   "pygments_lexer": "ipython3",
   "version": "3.11.5"
  }
 },
 "nbformat": 4,
 "nbformat_minor": 2
}
