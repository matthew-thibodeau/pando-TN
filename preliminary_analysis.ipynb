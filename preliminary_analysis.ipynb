{
 "cells": [
  {
   "attachments": {},
   "cell_type": "markdown",
   "metadata": {},
   "source": [
    "----\n",
    "# Analysis of the SA optimization\n",
    "----\n",
    "\n",
    "We optimized Tree-Tensor Networks (TNNs) using Simulated Annealing (SA).  \n",
    "Here we visalize and analyze the results.\n",
    "\n",
    "Date and content of runs:\n",
    "- `2023-10-05`: small run to test the notebook. No MPI parallelization.\n",
    "- `TEST`: small test with MPI parallelization (performed on 2023-11-27).\n",
    "- `2023-11-27`: run for data collection. With MPI parallelization.\n",
    "\n",
    "Sections:\n",
    "- <a href=#load>Load the dataframe</a>\n",
    "- <a href=#next>WIP</a>\n",
    "\n",
    "----\n",
    "<a id='top'></a>"
   ]
  },
  {
   "cell_type": "code",
   "execution_count": 35,
   "metadata": {},
   "outputs": [
    {
     "name": "stdout",
     "output_type": "stream",
     "text": [
      "working directory: /data/nfs_home/giangiac/pando-TN\n"
     ]
    }
   ],
   "source": [
    "# Set working directory to be the main directory of the repo.\n",
    "import os\n",
    "#try:\n",
    "#    was_cwd_initialized\n",
    "#except NameError:\n",
    "#    os.chdir('ttn_learning/')\n",
    "#    was_cwd_initialized = True\n",
    "print('working directory:', os.getcwd())\n",
    "\n",
    "import numpy as np              # Import NumPy library\n",
    "import matplotlib.pyplot as plt # Import graphical library for plots\n",
    "import pandas as pd\n",
    "import sys\n",
    "sys.path.insert(0, 'ttn_demo')\n",
    "sys.path.insert(0, 'ttn_learning')\n",
    "import ttn\n",
    "\n",
    "# Name of files and directories\n",
    "today = 'TEST'\n",
    "today = '2023-11-27'\n",
    "data_path = f'ttn_learning/data/{today}_TTN_SA'\n",
    "L = 16\n",
    "site_dim = 2\n",
    "bond_size = 3\n",
    "\n",
    "# For certain runs, there is no way to know the slurm_jobid and slurm_procid if not manually.\n",
    "if today == '2023-10-05':\n",
    "    slurm_jobid = '1696495532'\n",
    "    slurm_procid= '1696495532'\n",
    "elif today == '2023-11-27':\n",
    "    if L == 16 and bond_size == 3:\n",
    "        slurm_jobid = '19472'\n",
    "        slurm_procid= '0'\n",
    "    elif L == 24 and bond_size == 3:\n",
    "        slurm_jobid = '19450'\n",
    "        slurm_procid= '0'\n",
    "elif today == 'TEST':\n",
    "    L = 16\n",
    "    bond_size = 3\n",
    "    slurm_jobid = '19434'\n",
    "    slurm_procid = '0'"
   ]
  },
  {
   "attachments": {},
   "cell_type": "markdown",
   "metadata": {},
   "source": [
    "<a id='load'></a>\n",
    "\n",
    "----\n",
    "## Load the dataframe and visualize its content\n",
    "\n",
    "<a href=#top>Back to top</a>"
   ]
  },
  {
   "cell_type": "code",
   "execution_count": 36,
   "metadata": {},
   "outputs": [
    {
     "name": "stdout",
     "output_type": "stream",
     "text": [
      "                                               state     energy\n",
      "0  TTN([\\n    Tensor(shape=(2, 2), inds=('p15', '... -10.692101\n",
      "1                                               None -10.677020\n",
      "2  TTN([\\n    Tensor(shape=(2, 2), inds=('p0', '_... -10.692845\n",
      "3                                               None -10.675985\n",
      "4                                               None -10.679041\n",
      "5                                               None -10.661255\n",
      "False\n",
      "True\n"
     ]
    }
   ],
   "source": [
    "run = 23\n",
    "if today == '2023-10-05':\n",
    "    file_id =  f'TTN_SA_{slurm_jobid}_{slurm_procid}_{run}_L{L}_D{site_dim}'\n",
    "else:\n",
    "    file_id =  f'TTN_SA_{slurm_jobid}_{slurm_procid}_{run}_L{L}_D{site_dim}_m{bond_size}'\n",
    "\n",
    "with open(f'{data_path}/{file_id}_summary.pkl', 'rb') as f:\n",
    "    df = pd.read_pickle(f)\n",
    "print(df)\n",
    "print(isinstance(df['state'][1], ttn.TTN))\n",
    "print(isinstance(df['state'][2], ttn.TTN))"
   ]
  },
  {
   "cell_type": "code",
   "execution_count": 37,
   "metadata": {},
   "outputs": [
    {
     "data": {
      "image/png": "[encoded data removed]",
      "text/plain": [
       "<Figure size 640x480 with 1 Axes>"
      ]
     },
     "metadata": {},
     "output_type": "display_data"
    }
   ],
   "source": [
    "fig, ax = plt.subplots()\n",
    "\n",
    "# Plot the data with 'o' marker for states where 'state' is None\n",
    "ax.plot(df.index[~df['state'].notna()], df['energy'][~df['state'].notna()],\n",
    "        marker='o', linestyle='', color='b', label='rejected')\n",
    "# Plot the data with 'x' marker for accepted states\n",
    "ax.plot(df.index[df['state'].notna()], df['energy'][df['state'].notna()],\n",
    "        marker='x', linestyle='', color='r', label='accepted')\n",
    "\n",
    "ax.set_xlabel('SA move')\n",
    "ax.set_ylabel('Energy')\n",
    "ax.legend()\n",
    "\n",
    "plt.show()"
   ]
  },
  {
   "cell_type": "code",
   "execution_count": null,
   "metadata": {},
   "outputs": [],
   "source": []
  },
  {
   "cell_type": "markdown",
   "metadata": {},
   "source": [
    "----\n",
    "## END\n",
    "----"
   ]
  }
 ],
 "metadata": {
  "kernelspec": {
   "display_name": "Python 3",
   "language": "python",
   "name": "python3"
  },
  "language_info": {
   "codemirror_mode": {
    "name": "ipython",
    "version": 3
   },
   "file_extension": ".py",
   "mimetype": "text/x-python",
   "name": "python",
   "nbconvert_exporter": "python",
   "pygments_lexer": "ipython3",
   "version": "3.8.17"
  }
 },
 "nbformat": 4,
 "nbformat_minor": 2
}
