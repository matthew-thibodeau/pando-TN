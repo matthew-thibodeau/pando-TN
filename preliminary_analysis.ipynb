{
 "cells": [
  {
   "attachments": {},
   "cell_type": "markdown",
   "metadata": {},
   "source": [
    "----\n",
    "# Analysis of the SA optimization\n",
    "----\n",
    "\n",
    "We optimized Tree-Tensor Networks (TNNs) using Simulated Annealing (SA).  \n",
    "Here we visalize and analyze the results.\n",
    "\n",
    "Sections:\n",
    "- <a href=#load>Load the dataframe</a>\n",
    "- <a href=#next>WIP</a>\n",
    "\n",
    "----\n",
    "<a id='top'></a>"
   ]
  },
  {
   "cell_type": "code",
   "execution_count": 1,
   "metadata": {},
   "outputs": [
    {
     "name": "stdout",
     "output_type": "stream",
     "text": [
      "working directory: /data/nfs_home/giangiac/pando-TN\n"
     ]
    }
   ],
   "source": [
    "# Set working directory to be the main directory of the repo.\n",
    "import os\n",
    "#try:\n",
    "#    was_cwd_initialized\n",
    "#except NameError:\n",
    "#    os.chdir('ttn_learning/')\n",
    "#    was_cwd_initialized = True\n",
    "print('working directory:', os.getcwd())\n",
    "\n",
    "import numpy as np              # Import NumPy library\n",
    "import matplotlib.pyplot as plt # Import graphical library for plots\n",
    "import pandas as pd\n",
    "import sys\n",
    "sys.path.insert(0, 'ttn_demo')\n",
    "sys.path.insert(0, 'ttn_learning')\n",
    "import ttn\n",
    "\n",
    "# Name of files and directories\n",
    "data_path = 'ttn_learning/data/TTN_SA_data'\n",
    "\n",
    "# FIXME: Currently there is no way to know the slurm_jobid\n",
    "#        and slurm_procid if not manually.\n",
    "slurm_jobid = '1696444007'\n",
    "slurm_procid= '1696444007'\n",
    "run = 0\n",
    "L = 16\n",
    "site_dim = 2\n",
    "file_id =  f'TTN_SA_{slurm_jobid}_{slurm_procid}_{run}_L{L}_D{site_dim}'"
   ]
  },
  {
   "attachments": {},
   "cell_type": "markdown",
   "metadata": {},
   "source": [
    "<a id='load'></a>\n",
    "\n",
    "----\n",
    "## Load the dataframe and visualize its content\n",
    "\n",
    "<a href=#top>Back to top</a>"
   ]
  },
  {
   "cell_type": "code",
   "execution_count": 4,
   "metadata": {},
   "outputs": [
    {
     "name": "stdout",
     "output_type": "stream",
     "text": [
      "                                               state    energy\n",
      "0  TTN([\\n    Tensor(shape=(2, 2), inds=('p15', '... -7.989439\n",
      "1  TTN([\\n    Tensor(shape=(2, 2), inds=('p0', '_... -7.989305\n",
      "2                                               None -7.987733\n",
      "3                                               None -7.963964\n",
      "4  TTN([\\n    Tensor(shape=(2, 2), inds=('p0', '_... -7.974678\n",
      "5  TTN([\\n    Tensor(shape=(2, 2), inds=('p0', '_... -7.975364\n",
      "True\n",
      "False\n"
     ]
    }
   ],
   "source": [
    "with open(f'{data_path}/{file_id}_summary.pkl', 'rb') as f:\n",
    "    df = pd.read_pickle(f)\n",
    "print(df)\n",
    "print(isinstance(df['state'][1], ttn.TTN))\n",
    "print(isinstance(df['state'][2], ttn.TTN))"
   ]
  },
  {
   "cell_type": "code",
   "execution_count": null,
   "metadata": {},
   "outputs": [
    {
     "data": {
      "image/png": "[encoded data removed]",
      "text/plain": [
       "<Figure size 640x480 with 1 Axes>"
      ]
     },
     "metadata": {},
     "output_type": "display_data"
    }
   ],
   "source": [
    "fig, ax = plt.subplots()\n",
    "\n",
    "# Plot the data with 'o' marker for states where 'state' is None\n",
    "ax.plot(df.index[~df['state'].notna()], df['energy'][~df['state'].notna()],\n",
    "        marker='o', linestyle='', color='b', label='rejected')\n",
    "\n",
    "# Plot the data with 'x' marker for accepted states\n",
    "ax.plot(df.index[df['state'].notna()], df['energy'][df['state'].notna()],\n",
    "        marker='x', linestyle='', color='r', label='accepted')\n",
    "# Alternative (not working) syntax:\n",
    "#rejected_states = df[df['state'] == None]\n",
    "#ax.plot(rejected_states.index, rejected_states['energy'], marker='o', linestyle='-', color='g', label='rejected')\n",
    "\n",
    "# Add labels and legend\n",
    "ax.set_xlabel('SA move')\n",
    "ax.set_ylabel('Energy')\n",
    "ax.legend()\n",
    "\n",
    "# Display the plot\n",
    "plt.show()"
   ]
  },
  {
   "cell_type": "code",
   "execution_count": null,
   "metadata": {},
   "outputs": [],
   "source": []
  },
  {
   "cell_type": "code",
   "execution_count": null,
   "metadata": {},
   "outputs": [],
   "source": []
  },
  {
   "cell_type": "markdown",
   "metadata": {},
   "source": [
    "----\n",
    "## END\n",
    "----"
   ]
  }
 ],
 "metadata": {
  "kernelspec": {
   "display_name": "Python 3",
   "language": "python",
   "name": "python3"
  },
  "language_info": {
   "codemirror_mode": {
    "name": "ipython",
    "version": 3
   },
   "file_extension": ".py",
   "mimetype": "text/x-python",
   "name": "python",
   "nbconvert_exporter": "python",
   "pygments_lexer": "ipython3",
   "version": "3.8.17"
  }
 },
 "nbformat": 4,
 "nbformat_minor": 2
}
