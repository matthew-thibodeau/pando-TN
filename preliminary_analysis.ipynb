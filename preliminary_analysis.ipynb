{
 "cells": [
  {
   "attachments": {},
   "cell_type": "markdown",
   "metadata": {},
   "source": [
    "----\n",
    "# Analysis of the SA optimization\n",
    "----\n",
    "\n",
    "We optimized Tree-Tensor Networks (TNNs) using Simulated Annealing (SA).  \n",
    "Here we visalize and analyze the results.\n",
    "\n",
    "Date and content of runs:\n",
    "- `2023-10-05`: small run to test the notebook. No MPI parallelization.\n",
    "- `TEST`: small test with MPI parallelization (performed on 2023-11-27).\n",
    "- `2023-11-27`: run for data collection. With MPI parallelization.\n",
    "\n",
    "Sections:\n",
    "- <a href=#load>Load the dataframe</a>\n",
    "- <a href=#next>WIP</a>\n",
    "\n",
    "----\n",
    "<a id='top'></a>"
   ]
  },
  {
   "cell_type": "code",
   "execution_count": 1,
   "metadata": {},
   "outputs": [
    {
     "name": "stdout",
     "output_type": "stream",
     "text": [
      "working directory: /Users/mthib/Intel/pando-TN\n"
     ]
    },
    {
     "name": "stderr",
     "output_type": "stream",
     "text": [
      "/Users/mthib/anaconda3/lib/python3.11/site-packages/cotengra/hyperoptimizers/hyper.py:34: UserWarning: Couldn't import `kahypar` - skipping from default hyper optimizer and using basic `labels` method instead.\n",
      "  warnings.warn(\n"
     ]
    }
   ],
   "source": [
    "# Set working directory to be the main directory of the repo.\n",
    "import os\n",
    "#try:\n",
    "#    was_cwd_initialized\n",
    "#except NameError:\n",
    "#    os.chdir('ttn_learning/')\n",
    "#    was_cwd_initialized = True\n",
    "print('working directory:', os.getcwd())\n",
    "\n",
    "import numpy as np              # Import NumPy library\n",
    "import matplotlib.pyplot as plt # Import graphical library for plots\n",
    "import pandas as pd\n",
    "import sys\n",
    "sys.path.insert(0, 'ttn_demo')\n",
    "sys.path.insert(0, 'ttn_learning')\n",
    "import ttn\n",
    "# For certain runs, there is no way to know the slurm_jobid and slurm_procid if not manually.\n",
    "from analysis_utils import get_id_of_files\n",
    "\n",
    "# Name of files and directories\n",
    "today = 'TEST'\n",
    "today = '2023-11-27'\n",
    "data_path = f'ttn_learning/data/{today}_TTN_SA'"
   ]
  },
  {
   "attachments": {},
   "cell_type": "markdown",
   "metadata": {},
   "source": [
    "<a id='load'></a>\n",
    "\n",
    "----\n",
    "## Load the dataframe and visualize its content\n",
    "\n",
    "<a href=#top>Back to top</a>"
   ]
  },
  {
   "cell_type": "code",
   "execution_count": 2,
   "metadata": {},
   "outputs": [
    {
     "name": "stdout",
     "output_type": "stream",
     "text": [
      "                                                  state     energy\n",
      "0     TTN([\\n    Tensor(shape=(2, 2), inds=('p23', '... -15.672545\n",
      "1                                                  None -15.660965\n",
      "2                                                  None -15.668069\n",
      "3                                                  None -15.667615\n",
      "4                                                  None -15.643883\n",
      "...                                                 ...        ...\n",
      "996                                                None -15.654151\n",
      "997                                                None -15.671595\n",
      "998                                                None -15.679244\n",
      "999                                                None -15.682915\n",
      "1000                                               None -15.674528\n",
      "\n",
      "[1001 rows x 2 columns]\n",
      "121\n"
     ]
    }
   ],
   "source": [
    "L = 24\n",
    "site_dim = 2\n",
    "bond_size = 3\n",
    "run = 43\n",
    "\n",
    "slurm_jobid, slurm_procid = get_id_of_files(today, L, site_dim, bond_size, run)\n",
    "if today == '2023-10-05':\n",
    "    file_id =  f'TTN_SA_{slurm_jobid}_{slurm_procid}_{run}_L{L}_D{site_dim}'\n",
    "else:\n",
    "    file_id =  f'TTN_SA_{slurm_jobid}_{slurm_procid}_{run}_L{L}_D{site_dim}_m{bond_size}'\n",
    "\n",
    "with open(f'{data_path}/{file_id}_summary.pkl', 'rb') as f:\n",
    "    df = pd.read_pickle(f)\n",
    "with open(f'{data_path}/{file_id}_hamiltonian_vals.pkl', 'rb') as f:\n",
    "    hamvals = pd.read_pickle(f)\n",
    "print(df)\n",
    "\n",
    "# get adjacency matrix\n",
    "adj_matrix = df['state'][0].get_adjacency_matrix()\n",
    "\n",
    "# print(isinstance(df['state'][1], ttn.TTN))\n",
    "# print(isinstance(df['state'][2], ttn.TTN))\n",
    "print(sum([isinstance(df['state'][j], ttn.TTN) for j in range(len(df['state']))]))"
   ]
  },
  {
   "cell_type": "code",
   "execution_count": 7,
   "metadata": {},
   "outputs": [],
   "source": [
    "# set the matplotlib parameters\n",
    "SMALL_SIZE = 8\n",
    "MEDIUM_SIZE = 10\n",
    "BIGGER_SIZE = 12\n",
    "\n",
    "plt.rc('font', size=SMALL_SIZE)          # controls default text sizes\n",
    "plt.rc('axes', titlesize=SMALL_SIZE)     # fontsize of the axes title\n",
    "plt.rc('axes', labelsize=MEDIUM_SIZE)    # fontsize of the x and y labels\n",
    "plt.rc('xtick', labelsize=SMALL_SIZE)    # fontsize of the tick labels\n",
    "plt.rc('ytick', labelsize=SMALL_SIZE)    # fontsize of the tick labels\n",
    "plt.rc('legend', fontsize=SMALL_SIZE)    # legend fontsize\n",
    "plt.rc('figure', titlesize=BIGGER_SIZE)  # fontsize of the figure title\n",
    "plt.rc('text', usetex=True)\n",
    "plt.rc('text.latex', preamble=r'\\usepackage{amsmath}\\usepackage{bm}')"
   ]
  },
  {
   "cell_type": "code",
   "execution_count": 61,
   "metadata": {},
   "outputs": [
    {
     "name": "stdout",
     "output_type": "stream",
     "text": [
      "[0.8284910126410352, 0.8391166242404239, 0.843975900982194, 0.8443485621761191, 0.8444693620132692, 0.844502413763035, 0.8444755124781052, 0.844471273100493, 0.8444696467384186, 0.844603572662974, 0.8445889103144901, 0.8445889099988059, 0.8730207439982716, 0.8665118563766391, 0.8663258397049601, 0.9109655016189901, 0.9954886905837057, 0.9974056899427123, 0.9974742928735296, 0.9978332388614605, 0.9978378949570478, 0.9978394806936635, 0.9978395031072738, 0.9981245360556636, 0.9981244436032055, 0.9981244468908227, 0.9982382833021811, 0.9982382909554013, 0.9982382912640915, 0.9982382914440311, 0.9982382915530319, 0.9984980996551991, 0.9986896048313019, 0.9987395582592016, 0.9987395399620199, 0.9986770349410539, 0.9986860618023735, 0.9986860620784899, 0.9986860620800043, 0.998771257199602, 0.9987625218900309, 0.9987625176522363, 0.9987625176504333, 0.9987217575222936, 0.9987217575223593, 0.9989329718334057, 0.998932978907822, 0.9990638870578495, 0.9990648001372052, 0.9990648006369695, 0.9990648006372467, 0.9995423089719695, 0.9995423095089934, 0.999583098714964, 0.9997806233545896, 0.9997806233951052, 0.9997806233951034, 0.9997806233951043, 0.9997806233951076, 0.9997806233951032, 0.9997806233951061, 0.9997806233951054, 0.9997806233951054, 0.9997806233951045, 0.9997806233951079, 0.9997806233951065, 0.9997806233951045, 0.9998765939634544, 0.9998765934218493, 0.9998767234445433, 0.9998627201776852, 0.9998580342876057, 0.9998580342597532, 0.9998580342597558, 0.9998580342597547, 0.9998580342597543, 0.9998279063678595, 0.9998312752345451, 0.9998312752306434, 0.9998312752306421, 0.9998312752306401, 0.9998339292979411, 0.9998339271318081, 0.9998339271316835, 0.9998336117754445, 0.999834146413069, 0.9998341463308111, 0.9998341463307778, 0.9998339270062245, 0.9998339271316846, 0.9998339271316862, 0.9998339271316846, 0.999833927131688, 0.9998347796486491, 0.9998347796486506, 0.9998347796486486, 0.9998347796486478, 0.9998347796486478, 0.9998347796486498, 0.9998347796486484, 0.9998347796486473, 0.9998347796486491, 0.999834779648646, 0.9999044688238936, 0.9999045415181909, 0.9998909942436172, 0.9998911622863283, 0.9998912070695841, 0.9998912070770353, 0.9998912070770435, 0.9998912070770393, 0.9999999976732679, 1.0000000000000004, 0.9999999999999991, 0.9999999999999982, 0.9999999999999989, 0.9999999999999973, 1.0000000000000022, 0.9999999999999973, 0.9999360387696893, 0.9999360387704314]\n"
     ]
    }
   ],
   "source": [
    "non_recorded_states_idx = ~df['state'].notna()\n",
    "recorded_states_idx =  df['state'].notna()\n",
    "\n",
    "recorded_energies = df['energy'][recorded_states_idx]\n",
    "recorded_states = df['state'][recorded_states_idx]\n",
    "\n",
    "# compute the overlaps\n",
    "finalstateidx = recorded_energies.idxmin()\n",
    "min_energy = recorded_energies[finalstateidx]\n",
    "min_state = recorded_states[finalstateidx]\n",
    "\n",
    "ovps_2 = [(min_state.H @ x)**2 for x in recorded_states]"
   ]
  },
  {
   "cell_type": "code",
   "execution_count": 91,
   "metadata": {},
   "outputs": [
    {
     "name": "stdout",
     "output_type": "stream",
     "text": [
      "\n",
      "Num accepted SA moves: 121/1001 = 12.09 %\n"
     ]
    },
    {
     "data": {
      "image/png": "[encoded data removed]",
      "text/plain": [
       "<Figure size 325x350 with 3 Axes>"
      ]
     },
     "metadata": {},
     "output_type": "display_data"
    }
   ],
   "source": [
    "# To focus on the accepted moves, set the variable below:\n",
    "only_accepted = True\n",
    "\n",
    "\n",
    "\n",
    "\n",
    "fig, (ax1, ax2) = plt.subplots(2, 1, figsize=(3.25, 3.5), constrained_layout =True, sharex=True)\n",
    "# plt.subplots_adjust(hspace=0.3)\n",
    "# plt.suptitle(f'{today}:  L={L} , D={site_dim} , m={bond_size} , r={run}',  y=1.06)\n",
    "\n",
    "\n",
    "# Plot the data with 'o' marker for states where 'state' is None\n",
    "ax2.plot(df.index[~df['state'].notna()], df['energy'][~df['state'].notna()],\n",
    "        marker='o', linestyle='', color='k', ms=1,label='rejected')\n",
    "# Plot the data with 'x' marker for accepted states\n",
    "ax2.plot(df.index[df['state'].notna()], df['energy'][df['state'].notna()],\n",
    "        marker='', linestyle='-', linewidth=2, color='red', label='accepted')\n",
    "\n",
    "ax_ovp = ax1.twinx()\n",
    "\n",
    "ax1.plot(df.index[df['state'].notna()], df['energy'][df['state'].notna()]/min_energy * 100,\n",
    "        marker='', linestyle='--', color='k', label='relative energy')\n",
    "ax_ovp.plot(df.index[df['state'].notna()], ovps_2,\n",
    "        marker='', linestyle='-', color='b', label=r'overlap$^2$')\n",
    "\n",
    "\n",
    "ax1.set_ylabel(r'$E_j/E_\\textrm{final}$')\n",
    "ax_ovp.set_ylabel(r'$\\langle \\psi_j|\\psi_\\textrm{final}\\rangle^2$')\n",
    "\n",
    "lines, labels = ax1.get_legend_handles_labels()\n",
    "lines2, labels2 = ax_ovp.get_legend_handles_labels()\n",
    "ax1.legend(lines + lines2, labels + labels2)\n",
    "\n",
    "ax2.set_xlabel('SA move $j$'); \n",
    "ax2.set_ylabel('Energy $E_j$'); \n",
    "ax2.legend()\n",
    "\n",
    "ax2.set_ylim((min_energy - 0.01,-15.6, ))\n",
    "\n",
    "# Count how many SA moves were accepted/rejected.\n",
    "num_accepted = len(df.index[df['state'].notna()])\n",
    "num_rejected = len(df.index[~df['state'].notna()])\n",
    "print(f'\\nNum accepted SA moves: {num_accepted}/{num_accepted+num_rejected} = {num_accepted/(num_accepted+num_rejected)*100:5.2f} %')\n",
    "# plt.show()\n",
    "\n",
    "plt.savefig('/Users/mthib/Intel/pando-TN/report/figures/single_TTN_SA_run.pdf')"
   ]
  },
  {
   "cell_type": "markdown",
   "metadata": {},
   "source": [
    "Generate the Hamiltonian values / TTN state adjacency matrices for learning"
   ]
  },
  {
   "cell_type": "code",
   "execution_count": 4,
   "metadata": {},
   "outputs": [],
   "source": [
    "L = 24\n"
   ]
  },
  {
   "cell_type": "markdown",
   "metadata": {},
   "source": [
    "----\n",
    "## END\n",
    "----"
   ]
  }
 ],
 "metadata": {
  "kernelspec": {
   "display_name": "Python 3",
   "language": "python",
   "name": "python3"
  },
  "language_info": {
   "codemirror_mode": {
    "name": "ipython",
    "version": 3
   },
   "file_extension": ".py",
   "mimetype": "text/x-python",
   "name": "python",
   "nbconvert_exporter": "python",
   "pygments_lexer": "ipython3",
   "version": "3.11.5"
  }
 },
 "nbformat": 4,
 "nbformat_minor": 2
}
